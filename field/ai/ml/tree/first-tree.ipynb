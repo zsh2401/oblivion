{
 "cells": [
  {
   "cell_type": "markdown",
   "id": "933cb109-7096-410f-8f4e-5dcf8c0b9f69",
   "metadata": {},
   "source": [
    "## 决策树Hello World！"
   ]
  },
  {
   "cell_type": "markdown",
   "id": "17a214fd-73aa-4ee6-9cef-f457a66a7849",
   "metadata": {},
   "source": [
    "### 1.前期准备"
   ]
  },
  {
   "cell_type": "markdown",
   "id": "93c18380-4201-4bdb-b9b5-5ff1bea074e1",
   "metadata": {},
   "source": [
    "#### 导入包"
   ]
  },
  {
   "cell_type": "code",
   "execution_count": 23,
   "id": "4563b918-f402-4a76-b322-13fc0b60cc5e",
   "metadata": {
    "scrolled": true,
    "ExecuteTime": {
     "end_time": "2023-10-28T11:23:56.068269Z",
     "start_time": "2023-10-28T11:23:56.057689Z"
    }
   },
   "outputs": [],
   "source": [
    "import random # 随机训练数据\n",
    "from sklearn.tree import DecisionTreeClassifier"
   ]
  },
  {
   "cell_type": "markdown",
   "id": "dcf3ad97-aaad-496c-b461-73e75e52285d",
   "metadata": {},
   "source": [
    "定义一个函数，生成随机数据，X矩阵包含了N个二维坐标点，而Y则包含了N个结果。\n",
    "\n",
    "\n",
    "\n",
    "$$\n",
    "  X_{2\\times N} =\n",
    "  \\left[ {\\begin{array}{cc}\n",
    "    x_{1} && y_{1}  \\\\\n",
    "    x_{2} && y_{2}  \\\\\n",
    "    ...  && ...    \\\\\n",
    "    x_{n} && y_{n}  \\\\ \n",
    "  \\end{array} } \\right]\n",
    "$$\n",
    "\n",
    "训练用结果集如下，\n",
    "$$\n",
    "  Y_{1\\times N} =\n",
    "  \\left[ {\\begin{array}{cc}\n",
    "    p_{1}   \\\\\n",
    "    p_{2}   \\\\\n",
    "    ...   \\\\\n",
    "    p_{n}  \\\\ \n",
    "  \\end{array} } \\right]\n",
    "$$\n",
    "p = 1,2,3,4"
   ]
  },
  {
   "cell_type": "markdown",
   "id": "1a02e317-c2bf-4b6d-a166-58c6f5fcb18b",
   "metadata": {},
   "source": [
    "#### 训练集生成函数"
   ]
  },
  {
   "cell_type": "code",
   "execution_count": 24,
   "id": "c5628f1f-2299-43d1-aed1-9c8ca4e468f7",
   "metadata": {
    "ExecuteTime": {
     "end_time": "2023-10-28T11:23:56.080843Z",
     "start_time": "2023-10-28T11:23:56.067921Z"
    }
   },
   "outputs": [],
   "source": [
    "def rand_num(random_signal, max_abs):\n",
    "    signal = -1 if random.random() < 0.5 and random_signal else 1\n",
    "    return random.random() * signal * max_abs\n",
    "    \n",
    "def get_quadrant(point):\n",
    "        if point[0] > 0 and point[1] > 0:\n",
    "            return 1\n",
    "        elif point[0] < 0 and point[1] > 0:\n",
    "            return 2\n",
    "        elif point[0] < 0 and point[1] < 0:\n",
    "            return 3\n",
    "        else:\n",
    "            return 4\n",
    "# 生成随机的训练数据\n",
    "# 参数size为数据集大小，max_abs为训练数据坐标点最大绝对值\n",
    "def get_quadrant_train_data(size, max_abs):\n",
    "    # 生成随机数字\n",
    "    X = []\n",
    "    y = []\n",
    "    for i in range(0, size):\n",
    "        point = [rand_num(True,max_abs), rand_num(True,max_abs)]\n",
    "        X.append(point)\n",
    "        y.append(get_quadrant(point))\n",
    "    return X, y\n",
    "    \n"
   ]
  },
  {
   "cell_type": "markdown",
   "id": "1e857e2f-4282-41d0-a32e-af1bd6e9faf0",
   "metadata": {},
   "source": [
    "### 2. 开始训练"
   ]
  },
  {
   "cell_type": "markdown",
   "id": "703441de-16c7-4123-8591-f44e012a3a1e",
   "metadata": {},
   "source": [
    "准备一些参数"
   ]
  },
  {
   "cell_type": "code",
   "execution_count": 25,
   "id": "106f2133-f6fa-4b52-a8b5-ac22b41386af",
   "metadata": {
    "ExecuteTime": {
     "end_time": "2023-10-28T11:23:56.099345Z",
     "start_time": "2023-10-28T11:23:56.072186Z"
    }
   },
   "outputs": [],
   "source": [
    "# 训练集大小\n",
    "dataset_size = 100\n",
    "\n",
    "# 训练集中，每个点的绝对值最大值\n",
    "point_max_abs = 5\n",
    "\n",
    "# 训练完成后的测试次数\n",
    "test_times = 10_000\n",
    "test_point_max_abs = 10_000\n"
   ]
  },
  {
   "cell_type": "code",
   "execution_count": 26,
   "id": "33b5a744-1bec-485f-bc2f-f22d42744794",
   "metadata": {
    "ExecuteTime": {
     "end_time": "2023-10-28T11:23:56.099639Z",
     "start_time": "2023-10-28T11:23:56.076940Z"
    }
   },
   "outputs": [],
   "source": [
    "# 新建一个空的决策树\n",
    "machine = DecisionTreeClassifier()"
   ]
  },
  {
   "cell_type": "code",
   "execution_count": 27,
   "id": "bf7fc812-85aa-4e07-b991-35e7ccff66cd",
   "metadata": {
    "ExecuteTime": {
     "end_time": "2023-10-28T11:23:56.100324Z",
     "start_time": "2023-10-28T11:23:56.082873Z"
    }
   },
   "outputs": [],
   "source": [
    "# 获取训练数据\n",
    "X, y = get_quadrant_train_data(dataset_size, point_max_abs)"
   ]
  },
  {
   "cell_type": "code",
   "execution_count": 28,
   "id": "38199cbf-beec-4b9c-af1c-041ce493f034",
   "metadata": {
    "ExecuteTime": {
     "end_time": "2023-10-28T11:23:56.101337Z",
     "start_time": "2023-10-28T11:23:56.084556Z"
    }
   },
   "outputs": [
    {
     "name": "stdout",
     "output_type": "stream",
     "text": [
      "训练耗时 0.0010559558868408203ms\n"
     ]
    }
   ],
   "source": [
    "from time import time\n",
    "\n",
    "start = time()\n",
    "\n",
    "# 进行拟合\n",
    "machine.fit(X,y)\n",
    "print(f\"训练耗时 {time() - start}ms\")\n"
   ]
  },
  {
   "cell_type": "markdown",
   "id": "d157df75-a33f-4a52-a1a5-6b765e29947e",
   "metadata": {},
   "source": [
    "### 3. 测试训练结果"
   ]
  },
  {
   "cell_type": "code",
   "execution_count": 29,
   "id": "360fc61e-f953-4c15-92ec-ebb953f6ef79",
   "metadata": {
    "ExecuteTime": {
     "end_time": "2023-10-28T11:23:56.390594Z",
     "start_time": "2023-10-28T11:23:56.103412Z"
    }
   },
   "outputs": [
    {
     "name": "stdout",
     "output_type": "stream",
     "text": [
      "正确率: 100.0%\n"
     ]
    }
   ],
   "source": [
    "corrects = 0\n",
    "start = time\n",
    "for i in range(test_times):\n",
    "    x = rand_num(True,test_point_max_abs)\n",
    "    y = rand_num(True,test_point_max_abs)\n",
    "    z = get_quadrant([x,y])\n",
    "    pz = machine.predict([[x,y]])[0];\n",
    "    correct = z == pz\n",
    "    if correct:\n",
    "        corrects += 1\n",
    "        # print(f\"\\t{x},{y}\\t是第{pz}象限，这是正确的\")\n",
    "    else:\n",
    "        print(f\"在第{i + 1}/{test_times}次测试，树认为\\t{x},{y}\\t是第{pz}象限，这是错误的\")\n",
    "    \n",
    "print(f\"正确率: {corrects / test_times * 100}%\")"
   ]
  }
 ],
 "metadata": {
  "kernelspec": {
   "display_name": "Python 3 (ipykernel)",
   "language": "python",
   "name": "python3"
  },
  "language_info": {
   "codemirror_mode": {
    "name": "ipython",
    "version": 3
   },
   "file_extension": ".py",
   "mimetype": "text/x-python",
   "name": "python",
   "nbconvert_exporter": "python",
   "pygments_lexer": "ipython3",
   "version": "3.11.6"
  }
 },
 "nbformat": 4,
 "nbformat_minor": 5
}
