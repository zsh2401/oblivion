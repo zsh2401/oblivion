{
 "cells": [
  {
   "cell_type": "markdown",
   "source": [
    "# F分布"
   ],
   "metadata": {
    "collapsed": false
   },
   "id": "48d7bcaa9a6147b2"
  },
  {
   "cell_type": "code",
   "execution_count": 10,
   "outputs": [
    {
     "data": {
      "text/plain": "0.006193958657108202"
     },
     "execution_count": 10,
     "metadata": {},
     "output_type": "execute_result"
    }
   ],
   "source": [
    "import scipy\n",
    "from scipy.stats import f as F\n",
    "F.ppf(0.05,1,1)"
   ],
   "metadata": {
    "collapsed": false,
    "ExecuteTime": {
     "end_time": "2023-10-28T11:39:45.704984Z",
     "start_time": "2023-10-28T11:39:45.702811Z"
    }
   },
   "id": "56f24d04d324265d"
  },
  {
   "cell_type": "markdown",
   "source": [
    "# t分布"
   ],
   "metadata": {
    "collapsed": false
   },
   "id": "9a28860e5846b13d"
  },
  {
   "cell_type": "code",
   "execution_count": 11,
   "outputs": [
    {
     "data": {
      "text/plain": "-6.313751514800938"
     },
     "execution_count": 11,
     "metadata": {},
     "output_type": "execute_result"
    }
   ],
   "source": [
    "from scipy.stats import t\n",
    "t.ppf(0.05,1)"
   ],
   "metadata": {
    "collapsed": false,
    "ExecuteTime": {
     "end_time": "2023-10-28T11:39:46.843443Z",
     "start_time": "2023-10-28T11:39:46.838782Z"
    }
   },
   "id": "584f01a3f45274d1"
  },
  {
   "cell_type": "markdown",
   "source": [
    "# 常态分布"
   ],
   "metadata": {
    "collapsed": false
   },
   "id": "42210ca633135fc9"
  },
  {
   "cell_type": "code",
   "execution_count": 12,
   "outputs": [
    {
     "data": {
      "text/plain": "-1.2815515655446004"
     },
     "execution_count": 12,
     "metadata": {},
     "output_type": "execute_result"
    }
   ],
   "source": [
    "# 常态分布\n",
    "from scipy.stats import norm\n",
    "# norm.pd\n",
    "norm.ppf(0.1)"
   ],
   "metadata": {
    "collapsed": false,
    "ExecuteTime": {
     "end_time": "2023-10-28T11:51:19.017130Z",
     "start_time": "2023-10-28T11:51:19.011653Z"
    }
   },
   "id": "b3c498bfbd24cb6e"
  },
  {
   "cell_type": "code",
   "execution_count": 16,
   "outputs": [
    {
     "data": {
      "text/plain": "0.02370965117314134"
     },
     "execution_count": 16,
     "metadata": {},
     "output_type": "execute_result"
    }
   ],
   "source": [
    "0.0625 - 1.282 * (((1/64)*0.0625*(1-0.0625))** 0.5)"
   ],
   "metadata": {
    "collapsed": false,
    "ExecuteTime": {
     "end_time": "2023-10-28T11:54:04.980872Z",
     "start_time": "2023-10-28T11:54:04.968439Z"
    }
   },
   "id": "9b97cd6c385f717"
  },
  {
   "cell_type": "code",
   "execution_count": null,
   "outputs": [],
   "source": [],
   "metadata": {
    "collapsed": false
   },
   "id": "5dbbe250a40a7af9"
  }
 ],
 "metadata": {
  "kernelspec": {
   "display_name": "Python 3",
   "language": "python",
   "name": "python3"
  },
  "language_info": {
   "codemirror_mode": {
    "name": "ipython",
    "version": 2
   },
   "file_extension": ".py",
   "mimetype": "text/x-python",
   "name": "python",
   "nbconvert_exporter": "python",
   "pygments_lexer": "ipython2",
   "version": "2.7.6"
  }
 },
 "nbformat": 4,
 "nbformat_minor": 5
}
