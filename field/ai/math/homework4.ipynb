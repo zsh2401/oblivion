{
 "cells": [
  {
   "cell_type": "code",
   "execution_count": 3,
   "id": "initial_id",
   "metadata": {
    "collapsed": true,
    "ExecuteTime": {
     "end_time": "2023-11-06T08:01:20.182088Z",
     "start_time": "2023-11-06T08:01:20.174906Z"
    }
   },
   "outputs": [
    {
     "data": {
      "text/plain": "array([[1.3],\n       [2.5],\n       [3.7],\n       [5.3],\n       [6.4],\n       [7.2]])"
     },
     "execution_count": 3,
     "metadata": {},
     "output_type": "execute_result"
    }
   ],
   "source": [
    "import numpy as np\n",
    "\n",
    "X = np.array([\n",
    "    [1, 1, 1, 1, 1, 1],\n",
    "    [1, 2, 3, 4, 5, 6]\n",
    "]).T\n",
    "y = np.array([[1.3, 2.5, 3.7, 5.3, 6.4, 7.2]]).T\n",
    "y"
   ]
  },
  {
   "cell_type": "code",
   "execution_count": 8,
   "outputs": [
    {
     "data": {
      "text/plain": "matrix([[0.12      ],\n        [1.22285714]])"
     },
     "execution_count": 8,
     "metadata": {},
     "output_type": "execute_result"
    }
   ],
   "source": [
    "np.matrix(X.T.dot(X)).I.dot(X.T).dot(y)"
   ],
   "metadata": {
    "collapsed": false,
    "ExecuteTime": {
     "end_time": "2023-11-06T08:03:59.645291Z",
     "start_time": "2023-11-06T08:03:59.639510Z"
    }
   },
   "id": "bf479a862541d604"
  },
  {
   "cell_type": "code",
   "execution_count": null,
   "outputs": [],
   "source": [],
   "metadata": {
    "collapsed": false
   },
   "id": "a43d6cfce9348798"
  }
 ],
 "metadata": {
  "kernelspec": {
   "display_name": "Python 3",
   "language": "python",
   "name": "python3"
  },
  "language_info": {
   "codemirror_mode": {
    "name": "ipython",
    "version": 2
   },
   "file_extension": ".py",
   "mimetype": "text/x-python",
   "name": "python",
   "nbconvert_exporter": "python",
   "pygments_lexer": "ipython2",
   "version": "2.7.6"
  }
 },
 "nbformat": 4,
 "nbformat_minor": 5
}
