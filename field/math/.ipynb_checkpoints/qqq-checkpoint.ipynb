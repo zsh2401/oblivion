{
 "cells": [
  {
   "cell_type": "code",
   "execution_count": 1,
   "id": "bdde01e4-dae1-41b1-bea0-325e1ae1d07d",
   "metadata": {},
   "outputs": [],
   "source": [
    "def get_x():\n",
    "    return [1,2]"
   ]
  },
  {
   "cell_type": "code",
   "execution_count": null,
   "id": "bebcb265-24cb-4ad2-8f44-876c053131e3",
   "metadata": {},
   "outputs": [],
   "source": []
  }
 ],
 "metadata": {
  "kernelspec": {
   "display_name": "Python 3 (ipykernel)",
   "language": "python",
   "name": "python3"
  },
  "language_info": {
   "codemirror_mode": {
    "name": "ipython",
    "version": 3
   },
   "file_extension": ".py",
   "mimetype": "text/x-python",
   "name": "python",
   "nbconvert_exporter": "python",
   "pygments_lexer": "ipython3",
   "version": "3.11.6"
  }
 },
 "nbformat": 4,
 "nbformat_minor": 5
}
